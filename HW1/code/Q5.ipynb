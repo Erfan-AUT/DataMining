{
 "metadata": {
  "language_info": {
   "codemirror_mode": {
    "name": "ipython",
    "version": 3
   },
   "file_extension": ".py",
   "mimetype": "text/x-python",
   "name": "python",
   "nbconvert_exporter": "python",
   "pygments_lexer": "ipython3",
   "version": "3.8.6-final"
  },
  "orig_nbformat": 2,
  "kernelspec": {
   "name": "Python 3.8.6 64-bit",
   "display_name": "Python 3.8.6 64-bit",
   "metadata": {
    "interpreter": {
     "hash": "97b19d906c34aa15af756425bfc442c2594ce808bc11fea7d1477168c66397b4"
    }
   }
  }
 },
 "nbformat": 4,
 "nbformat_minor": 2,
 "cells": [
  {
   "cell_type": "code",
   "execution_count": null,
   "metadata": {},
   "outputs": [],
   "source": [
    "import numpy as np \n",
    "\n",
    "x = np.array([1.58, 1.60, 1.62, 1.65, 1.68, 1.70, 1.74, 1.75, 1.77, 1.80])\n",
    "y = np.array([57.5, 58.2, 59.5, 62.1, 63.4, 64.5, 66.2, 67.7, 69.4, 71.3])\n",
    "\n",
    "x_mean = x.mean()\n",
    "y_mean = y.mean()\n",
    "\n",
    "x_xbar = x - x_mean\n",
    "y_ybar = y - y_mean\n",
    "\n",
    "b1 = np.dot(x_xbar, y_ybar) / np.sum(x_xbar ** 2)\n",
    "\n",
    "b0 = y_mean - b1 * x_mean"
   ]
  },
  {
   "cell_type": "code",
   "execution_count": null,
   "metadata": {},
   "outputs": [],
   "source": [
    "print(\"x_mean: {} , y_mean: {}\".format(x_mean, y_mean))\n",
    "print(\"x - xbar: {} , y-ybar: {}\".format(x_xbar, y_ybar))\n",
    "print(\"b_0: {}, b_1: {}\".format(b0, b1))"
   ]
  },
  {
   "cell_type": "code",
   "execution_count": null,
   "metadata": {},
   "outputs": [],
   "source": []
  },
  {
   "cell_type": "code",
   "execution_count": null,
   "metadata": {},
   "outputs": [],
   "source": [
    "from math import log2\n",
    "data = [\n",
    "    [0.1, 0.175],\n",
    "    [0.175, 0.1375],\n",
    "    [0.225, 0.1875],\n",
    "    [0.25, 0.175],\n",
    "    [0.1, 0.1375],\n",
    "    [0.15, 0.1875]\n",
    "]\n",
    "\n",
    "lst = [dt[0] * log2(dt[0]/dt[1]) for dt in data]\n",
    "sum(lst)"
   ]
  },
  {
   "cell_type": "code",
   "execution_count": null,
   "metadata": {},
   "outputs": [],
   "source": [
    "lst = [200, 300, 400, 600, 1000]\n",
    "mean = 500\n",
    "sd = 316.23\n",
    "[(t - mean)/sd for t in lst]"
   ]
  },
  {
   "cell_type": "code",
   "execution_count": 45,
   "metadata": {},
   "outputs": [
    {
     "output_type": "execute_result",
     "data": {
      "text/plain": [
       "array([-41.88722082,  62.66265294])"
      ]
     },
     "metadata": {},
     "execution_count": 45
    }
   ],
   "source": [
    "import numpy as np \n",
    "X = np.array([\n",
    "    [1, 1.58],\n",
    "    [1, 1.6],\n",
    "    [1, 1.62],\n",
    "    [1, 1.65],\n",
    "    [1, 1.68],\n",
    "    [1, 1.7],\n",
    "    [1, 1.74],\n",
    "    [1, 1.75],\n",
    "    [1, 1.77],\n",
    "    [1, 1.8]\n",
    "])\n",
    "\n",
    "y = np.array([\n",
    "    57.5, 58.2, 59.2, 62.1, 63.4, 64.5, 66.2, 67.7, 69.4, 71.3\n",
    "])\n",
    "\n",
    "beta = np.linalg.inv(X.T @ X) @ X.T @ y\n",
    "beta"
   ]
  },
  {
   "cell_type": "code",
   "execution_count": 2,
   "metadata": {},
   "outputs": [
    {
     "output_type": "execute_result",
     "data": {
      "text/plain": [
       "1.0"
      ]
     },
     "metadata": {},
     "execution_count": 2
    }
   ],
   "source": [
    "from math import log2\n",
    "# a = [0.35, 0.275, 0.375]\n",
    "a = [0.5, 0.5]\n",
    "h = [x * log2(x) for x in a]\n",
    "- sum(h)"
   ]
  }
 ]
}