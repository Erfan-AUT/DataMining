{
 "metadata": {
  "language_info": {
   "codemirror_mode": {
    "name": "ipython",
    "version": 3
   },
   "file_extension": ".py",
   "mimetype": "text/x-python",
   "name": "python",
   "nbconvert_exporter": "python",
   "pygments_lexer": "ipython3",
   "version": "3.8.2-final"
  },
  "orig_nbformat": 2,
  "kernelspec": {
   "name": "python3",
   "display_name": "Python 3"
  }
 },
 "nbformat": 4,
 "nbformat_minor": 2,
 "cells": [
  {
   "cell_type": "code",
   "execution_count": 30,
   "metadata": {},
   "outputs": [],
   "source": [
    "import scipy as sp\n",
    "import numpy as np\n",
    "import scipy.stats as stats\n",
    "\n",
    "cosine = lambda x, y : 1 - sp.spatial.distance.cosine(x, y)\n",
    "euclidean = sp.spatial.distance.euclidean\n",
    "correlation = stats.pearsonr\n",
    "jaccard = sp.spatial.distance.jaccard"
   ]
  },
  {
   "cell_type": "code",
   "execution_count": 38,
   "metadata": {},
   "outputs": [],
   "source": [
    "# x = [0, -1, 0, 1]\n",
    "# y = [1, 0, -1, 0]\n",
    "# x = [2, -1, 0, 2, 0, -3]\n",
    "# y = [-1, 1, -1, 0, 0, -1]\n",
    "x = [1, 1, 0, 1, 0, 1]\n",
    "y = [1, 1, 1, 0, 0, 1]"
   ]
  },
  {
   "cell_type": "code",
   "execution_count": 40,
   "metadata": {},
   "outputs": [
    {
     "output_type": "stream",
     "name": "stdout",
     "text": [
      "X: [1, 1, 0, 1, 0, 1] , Y: [1, 1, 1, 0, 0, 1] \n\nX_Mean: 0.6666666666666666 , Y_Mean: 0.6666666666666666 \n\nCosine: 0.75\nEuclidean: 1.4142135623730951\nCorrelation: 0.24999999999999994\nJaccard: 0.4\n"
     ]
    }
   ],
   "source": [
    "cs = cosine(x, y)\n",
    "eu = euclidean(x, y)\n",
    "cr, _ = correlation(x,y)\n",
    "jc = jaccard(x, y)\n",
    "x_mean = np.mean(x)\n",
    "y_mean = np.mean(y)\n",
    "\n",
    "print (\"X: {} , Y: {} \\n\".format(x, y))\n",
    "print (\"X_Mean: {} , Y_Mean: {} \\n\".format(x_mean, y_mean))\n",
    "print (\"Cosine: {}\".format(cs))\n",
    "print (\"Euclidean: {}\".format(eu))\n",
    "print (\"Correlation: {}\".format(cr))\n",
    "print (\"Jaccard: {}\".format(jc))"
   ]
  },
  {
   "cell_type": "code",
   "execution_count": null,
   "metadata": {},
   "outputs": [],
   "source": []
  }
 ]
}