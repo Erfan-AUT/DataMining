{
 "metadata": {
  "language_info": {
   "codemirror_mode": {
    "name": "ipython",
    "version": 3
   },
   "file_extension": ".py",
   "mimetype": "text/x-python",
   "name": "python",
   "nbconvert_exporter": "python",
   "pygments_lexer": "ipython3",
   "version": "3.8.6-final"
  },
  "orig_nbformat": 2,
  "kernelspec": {
   "name": "Python 3.8.6 64-bit",
   "display_name": "Python 3.8.6 64-bit",
   "metadata": {
    "interpreter": {
     "hash": "97b19d906c34aa15af756425bfc442c2594ce808bc11fea7d1477168c66397b4"
    }
   }
  }
 },
 "nbformat": 4,
 "nbformat_minor": 2,
 "cells": [
  {
   "cell_type": "code",
   "execution_count": null,
   "metadata": {},
   "outputs": [],
   "source": [
    "# rom_mapping = {'yes': 1, 'no': -1}\n",
    "# famsize_mapping = {'LE3': 3, 'GT3': 4}\n",
    "# pstatus_mapping = {'T': 1, 'A': -1}\n",
    "# df.drop(['address'], axis=1)"
   ]
  },
  {
   "cell_type": "code",
   "execution_count": 7,
   "metadata": {},
   "outputs": [],
   "source": [
    "import pandas as pd \n",
    "from sklearn.model_selection import train_test_split\n",
    "from sklearn.linear_model import LinearRegression\n",
    "\n",
    "def clean_data(df):\n",
    "    cols_to_remove = []\n",
    "    for col in df.columns:\n",
    "        try:\n",
    "            _ = df[col].astype(float)\n",
    "        except ValueError:\n",
    "            cols_to_remove.append(col)\n",
    "    return df[[col for col in df.columns if col not in cols_to_remove]]\n",
    "\n",
    "df = pd.read_csv(\"../data/student.csv\", delimiter=\";\")\n",
    "df = clean_data(df)\n",
    "g3 = df.pop('G3')\n",
    "x_train, x_test, y_train, y_test = train_test_split(df, g3, test_size=0.2, random_state=42)\n",
    "\n",
    "reg = LinearRegression().fit(x_train, y_train)"
   ]
  },
  {
   "cell_type": "code",
   "execution_count": 44,
   "metadata": {},
   "outputs": [],
   "source": [
    "import numpy as np\n",
    "\n",
    "y_test = np.array(y_test)\n",
    "diff = []\n",
    "for i in range(len(x_test)):\n",
    "    diff.append(\n",
    "        float(y_test[i] - reg.predict(x_test.iloc[[i]]))\n",
    "    )\n",
    "diff = np.array(diff)"
   ]
  },
  {
   "cell_type": "code",
   "execution_count": 47,
   "metadata": {},
   "outputs": [
    {
     "output_type": "execute_result",
     "data": {
      "text/plain": [
       "0.6962025316455697"
      ]
     },
     "metadata": {},
     "execution_count": 47
    }
   ],
   "source": [
    "(diff < 1.0).sum() / len(diff)"
   ]
  }
 ]
}