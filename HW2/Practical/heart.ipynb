{
 "cells": [
  {
   "cell_type": "code",
   "execution_count": null,
   "metadata": {},
   "outputs": [],
   "source": [
    "import pandas as pd\n",
    "import numpy as np\n",
    "from sklearn.model_selection import train_test_split\n",
    "from sklearn.naive_bayes import MultinomialNB\n",
    "from sklearn.neighbors import KNeighborsClassifier"
   ]
  },
  {
   "cell_type": "code",
   "execution_count": null,
   "metadata": {},
   "outputs": [],
   "source": [
    "df = pd.read_csv(\"heart/input/heart.csv\")\n",
    "train, test = train_test_split(df, test_size=0.2)\n",
    "\n",
    "# After some testing, this k amounted to the highest accuracy\n",
    "k = int(np.sqrt(len(df))) - 7\n",
    "\n",
    "test_y = test.pop(\"target\")\n",
    "train_y = train.pop(\"target\")"
   ]
  },
  {
   "cell_type": "code",
   "execution_count": null,
   "metadata": {},
   "outputs": [],
   "source": [
    "knn = KNeighborsClassifier(n_neighbors=k)\n",
    "knn.fit(train, train_y)"
   ]
  },
  {
   "cell_type": "code",
   "execution_count": null,
   "metadata": {},
   "outputs": [],
   "source": [
    "def accuracy(df, answer):\n",
    "    acc = (df == answer).value_counts()[True]\n",
    "    acc = int(acc) / len(df)\n",
    "    return acc"
   ]
  },
  {
   "cell_type": "code",
   "execution_count": null,
   "metadata": {},
   "outputs": [],
   "source": [
    "knn_prediction = knn.predict(test)\n",
    "print(\"Accuracy for knn with %s neighbors is %s\" % (k, accuracy(knn_prediction, test_y)))"
   ]
  },
  {
   "cell_type": "code",
   "execution_count": 45,
   "metadata": {},
   "outputs": [
    {
     "output_type": "execute_result",
     "data": {
      "text/plain": [
       "MultinomialNB()"
      ]
     },
     "metadata": {},
     "execution_count": 45
    }
   ],
   "source": [
    "mnb = MultinomialNB()\n",
    "mnb.fit(train, train_y)"
   ]
  },
  {
   "cell_type": "code",
   "execution_count": 46,
   "metadata": {},
   "outputs": [
    {
     "output_type": "stream",
     "name": "stdout",
     "text": [
      "Accuracy for Naive Bayes is 0.7377049180327869\n"
     ]
    }
   ],
   "source": [
    "nb_prediction = mnb.predict(test)\n",
    "print(\"Accuracy for Naive Bayes is %s\" % accuracy(nb_prediction, test_y))\n"
   ]
  }
 ],
 "metadata": {
  "kernelspec": {
   "name": "python3",
   "display_name": "Python 3.8.6 64-bit",
   "metadata": {
    "interpreter": {
     "hash": "97b19d906c34aa15af756425bfc442c2594ce808bc11fea7d1477168c66397b4"
    }
   }
  },
  "language_info": {
   "codemirror_mode": {
    "name": "ipython",
    "version": 3
   },
   "file_extension": ".py",
   "mimetype": "text/x-python",
   "name": "python",
   "nbconvert_exporter": "python",
   "pygments_lexer": "ipython3",
   "version": "3.8.6-final"
  }
 },
 "nbformat": 4,
 "nbformat_minor": 4
}