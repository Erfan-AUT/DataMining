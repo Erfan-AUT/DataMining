{
 "cells": [
  {
   "cell_type": "code",
   "execution_count": 2,
   "metadata": {},
   "outputs": [],
   "source": [
    "import pandas as pd \n",
    "from sklearn import tree\n",
    "import numpy as np\n",
    "import graphviz\n",
    "import os\n",
    "os.environ[\"PATH\"] += os.pathsep + 'C:/Program Files/GraphViz'"
   ]
  },
  {
   "cell_type": "code",
   "execution_count": null,
   "metadata": {},
   "outputs": [],
   "source": [
    "from sklearn.ensemble import RandomForestClassifier\n",
    "\n",
    "y = train_data[\"Survived\"]\n",
    "\n",
    "features = [\"Pclass\", \"Sex\", \"SibSp\", \"Parch\"]\n",
    "X = pd.get_dummies(train_data[features])\n",
    "X_test = pd.get_dummies(test_data[features])\n",
    "\n",
    "model = RandomForestClassifier(n_estimators=100, max_depth=3, random_state=2)\n",
    "model.fit(X, y)\n",
    "predictions = model.predict(X_test)"
   ]
  },
  {
   "cell_type": "code",
   "execution_count": 3,
   "metadata": {},
   "outputs": [],
   "source": [
    "def clean_df(df):\n",
    "    df[\"SibSp\"] = df[\"SibSp\"] + df[\"Parch\"]\n",
    "    df = df.replace({\"Sex\": {'male': 1, 'female': 0}})\n",
    "\n",
    "    del df[\"Name\"]\n",
    "    del df[\"Parch\"]\n",
    "    del df[\"Ticket\"]\n",
    "    del df[\"Embarked\"]\n",
    "    del df[\"PassengerId\"]\n",
    "    del df[\"Cabin\"]\n",
    "    # I have doubts about this one\n",
    "    # del df[\"Fare\"]\n",
    "\n",
    "    df = df.fillna(df.mean().astype(int))\n",
    "\n",
    "    return df\n"
   ]
  },
  {
   "cell_type": "code",
   "execution_count": 4,
   "metadata": {},
   "outputs": [],
   "source": [
    "train = pd.read_csv(\"titanic/input/train.csv\")\n",
    "train = clean_df(train)\n",
    "train_y = train.pop(\"Survived\")\n",
    "\n",
    "test = pd.read_csv(\"titanic/input/test.csv\")\n",
    "test = clean_df(test)\n",
    "\n",
    "answer = pd.read_csv(\"titanic/input/gender_submission.csv\")\n",
    "del answer['PassengerId']"
   ]
  },
  {
   "cell_type": "code",
   "execution_count": 5,
   "metadata": {},
   "outputs": [],
   "source": [
    "def create_train(train, y, criterion, max_depth, test):\n",
    "    clf = tree.DecisionTreeClassifier(criterion=criterion, max_depth=max_depth)\n",
    "    clf.fit(train, y)\n",
    "    if max_depth:\n",
    "        file_name = \"titanic/output/\" + criterion + str(max_depth)\n",
    "    else:\n",
    "        file_name = \"titanic/output/\" + criterion\n",
    "    dot_data = tree.export_graphviz(clf, out_file=None, \n",
    "                      feature_names=train.columns,\n",
    "                      class_names=[\"Didn't\", \"Survived\"],\n",
    "                      filled=True, rounded=True,  \n",
    "                      special_characters=True) \n",
    "    graph = graphviz.Source(dot_data)\n",
    "    graph.render(file_name)\n",
    "    result = clf.predict(test)\n",
    "    out_df = pd.DataFrame(data=result, columns=[\"Survived\"])\n",
    "    out_df.to_csv(file_name + \".csv\")\n",
    "    return out_df"
   ]
  },
  {
   "cell_type": "code",
   "execution_count": 6,
   "metadata": {},
   "outputs": [],
   "source": [
    "d1 = create_train(train, train_y, \"gini\", None, test)\n",
    "d2 = create_train(train, train_y, \"gini\", 4, test)\n",
    "d3 = create_train(train, train_y, \"entropy\", None, test)\n",
    "d4 = create_train(train, train_y, \"entropy\", 4, test)"
   ]
  },
  {
   "cell_type": "code",
   "execution_count": 7,
   "metadata": {},
   "outputs": [],
   "source": [
    "def accuracy(df, answer):\n",
    "    acc = (df == answer).value_counts()[True]\n",
    "    acc = int(acc) / len(d1)\n",
    "    return acc"
   ]
  },
  {
   "cell_type": "code",
   "execution_count": 8,
   "metadata": {},
   "outputs": [
    {
     "output_type": "stream",
     "name": "stdout",
     "text": [
      "Accuracy for gini - unlimited depth is 0.8038277511961722\nAccuracy for gini - 4 depth is 0.9593301435406698\nAccuracy for entropy - unlimited depth is 0.7942583732057417\nAccuracy for entropy - 4 depth is 0.9401913875598086\n"
     ]
    }
   ],
   "source": [
    "print(\"Accuracy for gini - unlimited depth is %s\" % accuracy(d1, answer))\n",
    "print(\"Accuracy for gini - 4 depth is %s\" % accuracy(d2, answer))\n",
    "print(\"Accuracy for entropy - unlimited depth is %s\" % accuracy(d3, answer))\n",
    "print(\"Accuracy for entropy - 4 depth is %s\" % accuracy(d4, answer))"
   ]
  },
  {
   "cell_type": "code",
   "execution_count": 9,
   "metadata": {},
   "outputs": [],
   "source": [
    "test = pd.read_csv(\"titanic/input/test.csv\")\n",
    "del test[\"Name\"]\n",
    "del test[\"Parch\"]\n",
    "del test[\"Ticket\"]\n",
    "del test[\"Embarked\"]\n",
    "del test[\"Cabin\"]\n",
    "# I have doubts about this onea\n",
    "del test[\"Fare\"]\n",
    "del test[\"Pclass\"]\n",
    "del test[\"Sex\"]\n",
    "del test[\"Age\"]\n",
    "del test[\"SibSp\"]\n",
    "d2, test\n",
    "\n",
    "a = test.join(d1)\n",
    "a.to_csv(\"kaggle-3.csv\", index=False)"
   ]
  }
 ],
 "metadata": {
  "kernelspec": {
   "name": "python3",
   "display_name": "Python 3.8.6 64-bit",
   "metadata": {
    "interpreter": {
     "hash": "97b19d906c34aa15af756425bfc442c2594ce808bc11fea7d1477168c66397b4"
    }
   }
  },
  "language_info": {
   "codemirror_mode": {
    "name": "ipython",
    "version": 3
   },
   "file_extension": ".py",
   "mimetype": "text/x-python",
   "name": "python",
   "nbconvert_exporter": "python",
   "pygments_lexer": "ipython3",
   "version": "3.8.6-final"
  }
 },
 "nbformat": 4,
 "nbformat_minor": 2
}