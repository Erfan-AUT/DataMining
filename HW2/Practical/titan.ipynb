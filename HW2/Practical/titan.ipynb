{
 "cells": [
  {
   "cell_type": "code",
   "execution_count": 19,
   "metadata": {},
   "outputs": [],
   "source": [
    "import pandas as pd \n",
    "from sklearn import tree\n",
    "import numpy as np\n",
    "import graphviz\n",
    "import os\n",
    "os.environ[\"PATH\"] += os.pathsep + 'C:/Program Files/GraphViz'"
   ]
  },
  {
   "cell_type": "code",
   "execution_count": 38,
   "metadata": {},
   "outputs": [],
   "source": [
    "def read_clean(file_name):\n",
    "    df = pd.read_csv(file_name)\n",
    "    df[\"SibSp\"] = df[\"SibSp\"] + df[\"Parch\"]\n",
    "    df = df.replace({\"Sex\": {'male': 1, 'female': 0}, \"Embarked\": {\"C\": 10, \"Q\": 20, \"S\": 30}})\n",
    "\n",
    "    del df[\"Name\"]\n",
    "    del df[\"Parch\"]\n",
    "    del df[\"Ticket\"]\n",
    "    del df[\"PassengerId\"]\n",
    "    del df[\"Cabin\"]\n",
    "\n",
    "    df.fillna(df.mean().astype(int), inplace=True)\n",
    "\n",
    "    return df\n"
   ]
  },
  {
   "cell_type": "code",
   "execution_count": 39,
   "metadata": {},
   "outputs": [],
   "source": [
    "train = read_clean(\"titanic/input/train.csv\")\n",
    "train_y = train.pop(\"Survived\")\n",
    "\n",
    "test = read_clean(\"titanic/input/test.csv\")\n",
    "\n",
    "answer = pd.read_csv(\"titanic/input/gender_submission.csv\")\n",
    "del answer['PassengerId']"
   ]
  },
  {
   "cell_type": "code",
   "execution_count": 40,
   "metadata": {},
   "outputs": [],
   "source": [
    "def create_train(train, y, criterion, max_depth, test):\n",
    "    clf = tree.DecisionTreeClassifier(criterion=criterion, max_depth=max_depth)\n",
    "    clf.fit(train, y)\n",
    "    if max_depth:\n",
    "        file_name = \"titanic/output/\" + criterion + str(max_depth)\n",
    "    else:\n",
    "        file_name = \"titanic/output/\" + criterion\n",
    "    dot_data = tree.export_graphviz(clf, out_file=None, \n",
    "                      feature_names=train.columns,\n",
    "                      class_names=[\"Didn't\", \"Survived\"],\n",
    "                      filled=True, rounded=True,  \n",
    "                      special_characters=True) \n",
    "    graph = graphviz.Source(dot_data)\n",
    "    graph.render(file_name)\n",
    "    result = clf.predict(test)\n",
    "    out_df = pd.DataFrame(data=result, columns=[\"Survived\"])\n",
    "    out_df.to_csv(file_name + \".csv\")\n",
    "    return out_df"
   ]
  },
  {
   "cell_type": "code",
   "execution_count": 41,
   "metadata": {},
   "outputs": [],
   "source": [
    "d1 = create_train(train, train_y, \"gini\", 5, test)\n",
    "d2 = create_train(train, train_y, \"gini\", 4, test)\n",
    "d3 = create_train(train, train_y, \"entropy\", 5, test)\n",
    "d4 = create_train(train, train_y, \"entropy\", 4, test)"
   ]
  },
  {
   "cell_type": "code",
   "execution_count": 36,
   "metadata": {},
   "outputs": [],
   "source": [
    "def accuracy(df, answer):\n",
    "    acc = (df == answer).value_counts()[True]\n",
    "    acc = int(acc) / len(d1)\n",
    "    return acc"
   ]
  },
  {
   "cell_type": "code",
   "execution_count": 37,
   "metadata": {},
   "outputs": [
    {
     "name": "stdout",
     "output_type": "stream",
     "text": [
      "Accuracy for gini - 5 depth is 0.937799043062201\n",
      "Accuracy for gini - 4 depth is 0.9617224880382775\n",
      "Accuracy for entropy - 5 depth is 0.9497607655502392\n",
      "Accuracy for entropy - 4 depth is 0.9497607655502392\n"
     ]
    }
   ],
   "source": [
    "print(\"Accuracy for gini - 5 depth is %s\" % accuracy(d1, answer))\n",
    "print(\"Accuracy for gini - 4 depth is %s\" % accuracy(d2, answer))\n",
    "print(\"Accuracy for entropy - 5 depth is %s\" % accuracy(d3, answer))\n",
    "print(\"Accuracy for entropy - 4 depth is %s\" % accuracy(d4, answer))"
   ]
  },
  {
   "cell_type": "code",
   "execution_count": 42,
   "metadata": {},
   "outputs": [],
   "source": [
    "test = pd.read_csv(\"titanic/input/test.csv\")\n",
    "del test[\"Name\"]\n",
    "del test[\"Parch\"]\n",
    "del test[\"Ticket\"]\n",
    "del test[\"Embarked\"]\n",
    "del test[\"Cabin\"]\n",
    "del test[\"Fare\"]\n",
    "del test[\"Pclass\"]\n",
    "del test[\"Sex\"]\n",
    "del test[\"Age\"]\n",
    "del test[\"SibSp\"]\n",
    "d2, test\n",
    "\n",
    "a = test.join(d2)\n",
    "a.to_csv(\"kaggle-nofare.csv\", index=False)"
   ]
  }
 ],
 "metadata": {
  "kernelspec": {
   "display_name": "Python 3",
   "language": "python",
   "name": "python3"
  },
  "language_info": {
   "codemirror_mode": {
    "name": "ipython",
    "version": 3
   },
   "file_extension": ".py",
   "mimetype": "text/x-python",
   "name": "python",
   "nbconvert_exporter": "python",
   "pygments_lexer": "ipython3",
   "version": "3.8.6"
  }
 },
 "nbformat": 4,
 "nbformat_minor": 2
}
