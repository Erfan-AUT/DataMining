{
 "metadata": {
  "language_info": {
   "codemirror_mode": {
    "name": "ipython",
    "version": 3
   },
   "file_extension": ".py",
   "mimetype": "text/x-python",
   "name": "python",
   "nbconvert_exporter": "python",
   "pygments_lexer": "ipython3",
   "version": "3.8.6-final"
  },
  "orig_nbformat": 2,
  "kernelspec": {
   "name": "python3",
   "display_name": "Python 3.8.6 64-bit",
   "metadata": {
    "interpreter": {
     "hash": "97b19d906c34aa15af756425bfc442c2594ce808bc11fea7d1477168c66397b4"
    }
   }
  }
 },
 "nbformat": 4,
 "nbformat_minor": 2,
 "cells": [
  {
   "cell_type": "code",
   "execution_count": null,
   "metadata": {},
   "outputs": [],
   "source": [
    "import matplotlib.pyplot as plt\n",
    "import matplotlib.image as mpimg\n",
    "import numpy as np\n",
    "from scipy.spatial.distance import euclidean\n",
    "import time\n",
    "\n"
   ]
  },
  {
   "cell_type": "code",
   "execution_count": null,
   "metadata": {
    "tags": []
   },
   "outputs": [],
   "source": [
    "img = mpimg.imread('data/sample_img1.png')\n",
    "data_1 = img\n",
    "k = 32\n",
    "max_loops = 3\n",
    "k_means = []\n",
    "cluster_pointers = {}\n",
    "clusters = []\n",
    "data_count = data_1.shape\n",
    "\n",
    "for i in range(k):\n",
    "    r1 = np.random.randint(0, data_count[0])\n",
    "    r2 = np.random.randint(0, data_count[1])\n",
    "    mean = data_1[r1][r2]\n",
    "    k_means.append(mean)\n",
    "    cluster_pointers.update({(r1, r2) : i})\n",
    "    clusters.append([mean])\n",
    "\n",
    "for _ in range(max_loops):\n",
    "    for j in range(data_count[0]):\n",
    "        # start = time.time()\n",
    "        for k_ in range(data_count[1]):\n",
    "            point = data_1[j][k_]\n",
    "            min_dist = float(\"inf\")\n",
    "            nearest_mean_index = -1\n",
    "            for i in range(k):\n",
    "                dist = euclidean(k_means[i], point)\n",
    "                if min_dist > dist:\n",
    "                    min_dist = dist\n",
    "                    nearest_mean_index = i\n",
    "            try:\n",
    "                clusters[cluster_pointers[(j,k_)]].remove(point)\n",
    "            except:\n",
    "                pass\n",
    "            cluster_pointers[(j,k_)] = nearest_mean_index\n",
    "            clusters[nearest_mean_index].append(point)\n",
    "        # end = time.time()\n",
    "        # print(j)\n",
    "        # print(end - start)\n",
    "    for i in range(k):\n",
    "        new_mean = sum(clusters[i]) / len(clusters[i])\n",
    "        k_means[i] = new_mean"
   ]
  },
  {
   "cell_type": "code",
   "execution_count": null,
   "metadata": {},
   "outputs": [],
   "source": [
    "for r1, r2 in cluster_pointers.keys():\n",
    "    cluster = cluster_pointers[(r1, r2)]\n",
    "    mean = k_means[cluster]\n",
    "    data_1[r1][r2] = mean\n",
    "\n",
    "plt.imshow(data_1)\n",
    "plt.savefig(\"k-\" + str(k) + \"_reduction.png\")"
   ]
  },
  {
   "cell_type": "code",
   "execution_count": null,
   "metadata": {},
   "outputs": [],
   "source": [
    "k_means"
   ]
  }
 ]
}